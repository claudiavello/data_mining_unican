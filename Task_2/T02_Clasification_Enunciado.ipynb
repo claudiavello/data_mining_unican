{
 "cells": [
  {
   "cell_type": "markdown",
   "metadata": {
    "toc": true
   },
   "source": [
    "<h1>Table of Contents<span class=\"tocSkip\"></span></h1>\n",
    "<div class=\"toc\"><ul class=\"toc-item\"><li><ul class=\"toc-item\"><li><span><a href=\"#[Profesores:-Steven-Van-Vaerenbergh,-Rodrigo-G.-Manzanas,-Joaquín-Bedia-y-Sixto-Herrera]\" data-toc-modified-id=\"[Profesores:-Steven-Van-Vaerenbergh,-Rodrigo-G.-Manzanas,-Joaquín-Bedia-y-Sixto-Herrera]-0.1\"><span class=\"toc-item-num\">0.1&nbsp;&nbsp;</span>[Profesores: Steven Van Vaerenbergh, Rodrigo G. Manzanas, Joaquín Bedia y Sixto Herrera]</a></span></li></ul></li><li><span><a href=\"#Introducción:-Reducción-de-la-Dimensión\" data-toc-modified-id=\"Introducción:-Reducción-de-la-Dimensión-1\"><span class=\"toc-item-num\">1&nbsp;&nbsp;</span>Introducción: Reducción de la Dimensión</a></span><ul class=\"toc-item\"><li><span><a href=\"#PCAs-(función-prcomp)\" data-toc-modified-id=\"PCAs-(función-prcomp)-1.1\"><span class=\"toc-item-num\">1.1&nbsp;&nbsp;</span>PCAs (función <a href=\"https://www.rdocumentation.org/packages/stats/versions/3.6.2/topics/prcomp\" target=\"_blank\">prcomp</a>)</a></span></li></ul></li><li><span><a href=\"#Tarea-2.-Problemas-de-Clasificación---Reducción-de-la-Dimensión\" data-toc-modified-id=\"Tarea-2.-Problemas-de-Clasificación---Reducción-de-la-Dimensión-2\"><span class=\"toc-item-num\">2&nbsp;&nbsp;</span>Tarea 2. Problemas de Clasificación - Reducción de la Dimensión</a></span><ul class=\"toc-item\"><li><span><a href=\"#Punto-1-(3-puntos):\" data-toc-modified-id=\"Punto-1-(3-puntos):-2.1\"><span class=\"toc-item-num\">2.1&nbsp;&nbsp;</span>Punto 1 (3 puntos):</a></span></li><li><span><a href=\"#Punto-2-(3-puntos):\" data-toc-modified-id=\"Punto-2-(3-puntos):-2.2\"><span class=\"toc-item-num\">2.2&nbsp;&nbsp;</span>Punto 2 (3 puntos):</a></span></li><li><span><a href=\"#Punto-3-(2-puntos):\" data-toc-modified-id=\"Punto-3-(2-puntos):-2.3\"><span class=\"toc-item-num\">2.3&nbsp;&nbsp;</span>Punto 3 (2 puntos):</a></span></li><li><span><a href=\"#Punto-4-(2-puntos):\" data-toc-modified-id=\"Punto-4-(2-puntos):-2.4\"><span class=\"toc-item-num\">2.4&nbsp;&nbsp;</span>Punto 4 (2 puntos):</a></span></li></ul></li></ul></div>"
   ]
  },
  {
   "cell_type": "markdown",
   "metadata": {
    "button": false,
    "new_sheet": false,
    "run_control": {
     "read_only": false
    }
   },
   "source": [
    "# Minería de Datos (Master en Data Science, UIMP-UC) \n",
    "### [Profesores: Steven Van Vaerenbergh, Rodrigo G. Manzanas, Joaquín Bedia y Sixto Herrera]\n",
    "\n",
    "\n",
    "## Introducción: Reducción de la Dimensión\n",
    "\n",
    "En la presente tarea trabajaremos con datos de variables climáticas los cuales por lo general presentan una alta auto-correlación espacial, rangos muy diferenciados y correlación entre variables, entre otros \"problemas\" citados a lo largo del curso.\n",
    "\n",
    "Como habéis visto en las sesiones de Reducción de la Dimensión con Técnicas No Lineales, estos métodos suelen ser un pre-proceso habitualmente aplicado para resolver dichos problemas. Es por ello que en parte de la presente tarea exploraremos dichas técnicas, sea en su versión lineal (PCAs) o no lineal (KPCAs). Para ello, en esta subsección introduciremos brevemente las funciones en R que aplican ambos métodos.\n",
    "\n",
    "### PCAs (función [prcomp](https://www.rdocumentation.org/packages/stats/versions/3.6.2/topics/prcomp))\n",
    "\n",
    "El análisis de componentes principales (PCAs) está implementado en R a través de la función `prcomp` (`?prcomp`). Veamos como hacer uso de dicha función:"
   ]
  },
  {
   "cell_type": "code",
   "execution_count": null,
   "metadata": {
    "vscode": {
     "languageId": "r"
    }
   },
   "outputs": [],
   "source": [
    "install.packages(\"readr\")"
   ]
  },
  {
   "cell_type": "code",
   "execution_count": null,
   "metadata": {
    "button": false,
    "new_sheet": false,
    "run_control": {
     "read_only": false
    },
    "vscode": {
     "languageId": "r"
    }
   },
   "outputs": [],
   "source": [
    "library(\"readr\")\n",
    "mnist_data <- read_csv(\"./train.csv\")\n",
    "nrows <- 1000 # set number of rows to include. Max = 42000\n",
    "PCA1 <- prcomp(mnist_data[1:nrows,(2:ncol(mnist_data))], center = TRUE, scale. = FALSE) # PCA with R\n",
    "str(PCA1)"
   ]
  },
  {
   "cell_type": "markdown",
   "metadata": {
    "button": false,
    "new_sheet": false,
    "run_control": {
     "read_only": false
    }
   },
   "source": [
    "Como vemos la función devuelve un `data.frame` con los siguientes elementos:\n",
    "\n",
    " * `sdev`: Se corresponde con la desviación estándar asociada a cada componente principal.\n",
    " * `rotation`: Es la matriz de cambio de base, desde el espacio original al espacio de las CPs.\n",
    " * `center`: Es el vector de medias de las variables originales.\n",
    " * `scale`: Es el vector de desviaciones estándar de las variables originales. Junto con `center` son los elementos aplicados para normalizar las variables orginales.\n",
    " * `x`: Es la matriz con las coordenadas de los diferentes elementos de la muestra en el espacio de las CPs. En un modelo que utilice CPs serán, por tanto, las nuevas variables de entrada.\n",
    "\n",
    "Una vez hemos obtenido las PCs y entrenado un modelo, para aplicar éste a nuevos datos (test) deberemos reproyectar los nuevos datos al espacio de las PCs con la función `predict`:"
   ]
  },
  {
   "cell_type": "code",
   "execution_count": 109,
   "metadata": {
    "button": false,
    "new_sheet": false,
    "run_control": {
     "read_only": false
    },
    "vscode": {
     "languageId": "r"
    }
   },
   "outputs": [],
   "source": [
    "PCAtest <- predict(PCA1, newdata = mnist_data[1001:2000,(2:ncol(mnist_data))])"
   ]
  },
  {
   "cell_type": "markdown",
   "metadata": {},
   "source": [
    "# <font color='pink'> ---------------------------------------------------------------------------"
   ]
  },
  {
   "cell_type": "markdown",
   "metadata": {
    "button": false,
    "new_sheet": false,
    "run_control": {
     "read_only": false
    }
   },
   "source": [
    "En el recurso `07 Reducción de la dimensión` incluido en el Moodle de la asignatura tienes toda la información detallada a este respecto.\n",
    "\n",
    "\n",
    "## Tarea 2. Problemas de Clasificación - Reducción de la Dimensión\n",
    "\n",
    "En la presente tarea consideraremos el dataset `meteo.csv`, que podéis descargaros en el GitHub dedicado a este Máster ([meteo.csv](https://github.com/SantanderMetGroup/Master-Data-Science/blob/master/Data_mining/datasets/meteo.csv.)) y que ha sido utilizado en diferentes sesiones prácticas. Dicho dataset contiene en la primera columna el valor de precipitación observado en Lisboa en el periodo 1979-2008 mientras que en las restantes contiene los valores observados de diferentes variables atmosféricas en 40 puntos que cubren aproximadamente la Península Ibérica. Dichas variables serán los `predictores` del modelo mientras que la precipitación será nuestra variable objetivo. En particular los predictores son:\n",
    "\n",
    "* Altura geopotencial en 500 hPa (columnas 2:41),\n",
    "* Temperatura del aire en 850 hPa (columnas 42:81), 700 hPa (columnas 82:121) y 500 hPa (columnas 122:161), \n",
    "* Temperatura del aire en superficie (columnas 162:201),\n",
    "* Humedad específica del aire en 850 hPa (columnas 202:241) y 500 hPa (columnas 242:281) y \n",
    "* Presión al nivel del mar (columnas 282:321)\n",
    "\n",
    "Para establecer el problema de clasificación consideraremos dos umbrales de discretización, 1 mm y 20 mm, que definen la ocurrencia de precipitación (Wet days) y de precipitaciones intensas (Very heavy precipitation days), respectivamente. Puedes consultar más detalles de la definición en la web de [ECA&D](https://www.ecad.eu//indicesextremes/indicesdictionary.php).\n",
    "\n",
    "Para el desarrollo de la tarea se permitirá el uso de todo el material incluido en el Moodle de las asignatura así como el desarrollado por el alumno durante la realización de las prácticas.\n",
    "\n",
    "La entrega consisitirá de un notebook de Jupyter ó un R-MarkDown, junto con el archivo html que éste genera. Ambos ficheros se entregarán a través del Moodle de la asignatura en la tarea correspondiente.\n",
    "\n",
    "### Punto 1 (3 puntos):\n",
    "\n",
    "Considerad la serie de precipitación discretizada a partir del valor 1 mm, que es el estándar definido para establecer los días en que ha llovido. El objetivo de este apartado es predecir la ocurrencia de precipitación en Lisboa a partir de los predictores originales. Para ello consideraremos el método `KNN`. Dividir la muestra en dos subconjuntos, el primero (20 primeros años) lo utilizaremos para calibrar el modelo y obtener su configuración óptima, mientras que el segundo (10 últimos años) lo utilizaremos como test independiente de cara a comparar diferentes métodos.\n",
    "\n",
    "* Obtened el valor óptimo de `K` en cada rastreando valores entre 1 y 15, ¿cambia el valor óptimo si normalizamos las variables originales (`? scale`)? En base a los resultados obtenidos, ¿considerarías las variables originales o normalizadas? En base al coste computacional del entrenamiento ¿consideras cierto que el método `KNN` se ve muy afectado por la dimensionalidad del espacio de trabajo?\n",
    "* Para la configuración óptima calibrada con el conjunto de entrenamiento realizad la predicción sobre el conjunto de test y estimad los errores cometidos sobre este conjunto.\n",
    "\n",
    "`Nota 1:` en principio es posible trabajar con el dataset completo sin seleccionar un subconjunto pero si surge algún problema de memoria podéis considerar únicamente los primeros 10 años (~3650 filas).\n",
    "\n",
    "`Nota 2:` usad las herramientas gráficas vistas durante la práctica para ilustrar los resultados y las conclusiones obtenidas."
   ]
  },
  {
   "cell_type": "code",
   "execution_count": 17,
   "metadata": {
    "vscode": {
     "languageId": "r"
    }
   },
   "outputs": [],
   "source": [
    "library(dplyr)\n",
    "library(readr)\n",
    "library(class)\n",
    "library(caret)"
   ]
  },
  {
   "cell_type": "code",
   "execution_count": 18,
   "metadata": {
    "vscode": {
     "languageId": "r"
    }
   },
   "outputs": [
    {
     "name": "stderr",
     "output_type": "stream",
     "text": [
      "\u001b[1m\u001b[22mNew names:\n",
      "\u001b[36m*\u001b[39m `` -> `...1`\n",
      "\u001b[1mRows: \u001b[22m\u001b[34m10958\u001b[39m \u001b[1mColumns: \u001b[22m\u001b[34m322\u001b[39m\n",
      "\u001b[36m--\u001b[39m \u001b[1mColumn specification\u001b[22m \u001b[36m--------------------------------------------------------\u001b[39m\n",
      "\u001b[1mDelimiter:\u001b[22m \",\"\n",
      "\u001b[32mdbl\u001b[39m (322): ...1, y, X1, X2, X3, X4, X5, X6, X7, X8, X9, X10, X11, X12, X13, ...\n",
      "\n",
      "\u001b[36mi\u001b[39m Use `spec()` to retrieve the full column specification for this data.\n",
      "\u001b[36mi\u001b[39m Specify the column types or set `show_col_types = FALSE` to quiet this message.\n"
     ]
    }
   ],
   "source": [
    "# Loading data\n",
    "meteo_data <- read_csv(\"./meteo.csv\")\n",
    "# str(meteo_data)\n",
    "# head(data, 10)"
   ]
  },
  {
   "cell_type": "code",
   "execution_count": 19,
   "metadata": {
    "vscode": {
     "languageId": "r"
    }
   },
   "outputs": [],
   "source": [
    "# Categorical variable and dataset adjustments\n",
    "meteo_data <- meteo_data[, -1]\n",
    "meteo_data$y <- ifelse(meteo_data$y >= 1, 1, 0)\n",
    "meteo_data$y <- as.factor(meteo_data$y)\n",
    "meteo_data <- meteo_data %>% select(y, everything()) # Move the target column to the first position"
   ]
  },
  {
   "cell_type": "code",
   "execution_count": 20,
   "metadata": {
    "vscode": {
     "languageId": "r"
    }
   },
   "outputs": [
    {
     "data": {
      "text/html": [
       "<style>\n",
       ".list-inline {list-style: none; margin:0; padding: 0}\n",
       ".list-inline>li {display: inline-block}\n",
       ".list-inline>li:not(:last-child)::after {content: \"\\00b7\"; padding: 0 .5ex}\n",
       "</style>\n",
       "<ol class=list-inline><li>7305</li><li>321</li></ol>\n"
      ],
      "text/latex": [
       "\\begin{enumerate*}\n",
       "\\item 7305\n",
       "\\item 321\n",
       "\\end{enumerate*}\n"
      ],
      "text/markdown": [
       "1. 7305\n",
       "2. 321\n",
       "\n",
       "\n"
      ],
      "text/plain": [
       "[1] 7305  321"
      ]
     },
     "metadata": {},
     "output_type": "display_data"
    },
    {
     "data": {
      "text/html": [
       "<style>\n",
       ".list-inline {list-style: none; margin:0; padding: 0}\n",
       ".list-inline>li {display: inline-block}\n",
       ".list-inline>li:not(:last-child)::after {content: \"\\00b7\"; padding: 0 .5ex}\n",
       "</style>\n",
       "<ol class=list-inline><li>3653</li><li>321</li></ol>\n"
      ],
      "text/latex": [
       "\\begin{enumerate*}\n",
       "\\item 3653\n",
       "\\item 321\n",
       "\\end{enumerate*}\n"
      ],
      "text/markdown": [
       "1. 3653\n",
       "2. 321\n",
       "\n",
       "\n"
      ],
      "text/plain": [
       "[1] 3653  321"
      ]
     },
     "metadata": {},
     "output_type": "display_data"
    }
   ],
   "source": [
    "## train/test partition\n",
    "\n",
    "num_rows <- nrow(meteo_data)\n",
    "\n",
    "train_size <- round(num_rows * (20 / 30))\n",
    "test_size <- num_rows - train_size\n",
    "\n",
    "indtrain <- 1:train_size # First 20 years\n",
    "indtest <- (train_size + 1):num_rows # Last 10 years\n",
    "data.train <- meteo_data[indtrain,] \n",
    "data.test <- meteo_data[indtest,]\n",
    "dim(data.train)\n",
    "dim(data.test)"
   ]
  },
  {
   "cell_type": "markdown",
   "metadata": {},
   "source": [
    "### No normalization"
   ]
  },
  {
   "cell_type": "code",
   "execution_count": 21,
   "metadata": {
    "vscode": {
     "languageId": "r"
    }
   },
   "outputs": [],
   "source": [
    "# Define the range of K values\n",
    "n.k <- 1:15\n",
    "\n",
    "# Cross-validation setup\n",
    "cv_control <- trainControl(method = \"cv\", number = 5)  # 5-fold Cross Validation\n",
    "\n",
    "# Train KNN model with Cross-Validation (without normalizing predictors)\n",
    "set.seed(123)\n",
    "knn_cv_no_norm <- train(y ~ ., data = data.train, \n",
    "                        method = \"knn\", \n",
    "                        trControl = cv_control, \n",
    "                        tuneGrid = data.frame(k = n.k))"
   ]
  },
  {
   "cell_type": "code",
   "execution_count": 22,
   "metadata": {
    "vscode": {
     "languageId": "r"
    }
   },
   "outputs": [],
   "source": [
    "best_k_no_norm <- knn_cv_no_norm$bestTune$k"
   ]
  },
  {
   "cell_type": "code",
   "execution_count": 23,
   "metadata": {
    "vscode": {
     "languageId": "r"
    }
   },
   "outputs": [
    {
     "name": "stdout",
     "output_type": "stream",
     "text": [
      "[1] \"Confusion Matrix - Without Normalization:\"\n",
      "Confusion Matrix and Statistics\n",
      "\n",
      "          Reference\n",
      "Prediction    0    1\n",
      "         0 2793  365\n",
      "         1  149  346\n",
      "                                          \n",
      "               Accuracy : 0.8593          \n",
      "                 95% CI : (0.8476, 0.8704)\n",
      "    No Information Rate : 0.8054          \n",
      "    P-Value [Acc > NIR] : < 2.2e-16       \n",
      "                                          \n",
      "                  Kappa : 0.4928          \n",
      "                                          \n",
      " Mcnemar's Test P-Value : < 2.2e-16       \n",
      "                                          \n",
      "            Sensitivity : 0.9494          \n",
      "            Specificity : 0.4866          \n",
      "         Pos Pred Value : 0.8844          \n",
      "         Neg Pred Value : 0.6990          \n",
      "             Prevalence : 0.8054          \n",
      "         Detection Rate : 0.7646          \n",
      "   Detection Prevalence : 0.8645          \n",
      "      Balanced Accuracy : 0.7180          \n",
      "                                          \n",
      "       'Positive' Class : 0               \n",
      "                                          \n"
     ]
    }
   ],
   "source": [
    "# Predict using the best K\n",
    "start_time_no_norm <- Sys.time()\n",
    "set.seed(123)\n",
    "pred_no_norm <- knn(train = meteo_data[indtrain, -1], \n",
    "                    test = meteo_data[indtest, -1],  \n",
    "                    cl = meteo_data$y[indtrain],  \n",
    "                    k = best_k_no_norm)\n",
    "end_time_no_norm <- Sys.time()\n",
    "\n",
    "# Compute Confusion Matrix for final predictions\n",
    "conf_matrix_no_norm <- confusionMatrix(pred_no_norm, meteo_data$y[indtest])\n",
    "\n",
    "print(\"Confusion Matrix - Without Normalization:\")\n",
    "print(conf_matrix_no_norm)"
   ]
  },
  {
   "cell_type": "markdown",
   "metadata": {},
   "source": [
    "### Normalization"
   ]
  },
  {
   "cell_type": "code",
   "execution_count": 24,
   "metadata": {
    "vscode": {
     "languageId": "r"
    }
   },
   "outputs": [],
   "source": [
    "# Normalize predictor variables only\n",
    "train_mean <- colMeans(data.train[, -1])\n",
    "train_sd <- apply(data.train[, -1], 2, sd)\n",
    "\n",
    "data.train.norm <- data.train\n",
    "data.train.norm[, -1] <- scale(data.train[, -1], center = train_mean, scale = train_sd)\n",
    "\n",
    "data.test.norm <- data.test\n",
    "data.test.norm[, -1] <- scale(data.test[, -1], center = train_mean, scale = train_sd)"
   ]
  },
  {
   "cell_type": "code",
   "execution_count": 25,
   "metadata": {
    "vscode": {
     "languageId": "r"
    }
   },
   "outputs": [],
   "source": [
    "# Train KNN model with Cross-Validation (with normalization)\n",
    "set.seed(123)\n",
    "knn_cv_norm <- train(y ~ ., data = data.train.norm, \n",
    "                     method = \"knn\", \n",
    "                     trControl = cv_control, \n",
    "                     tuneGrid = data.frame(k = n.k))"
   ]
  },
  {
   "cell_type": "code",
   "execution_count": 26,
   "metadata": {
    "vscode": {
     "languageId": "r"
    }
   },
   "outputs": [],
   "source": [
    "best_k_norm <- knn_cv_norm$bestTune$k"
   ]
  },
  {
   "cell_type": "code",
   "execution_count": 27,
   "metadata": {
    "vscode": {
     "languageId": "r"
    }
   },
   "outputs": [
    {
     "name": "stdout",
     "output_type": "stream",
     "text": [
      "[1] \"Confusion Matrix - With Normalization:\"\n",
      "Confusion Matrix and Statistics\n",
      "\n",
      "          Reference\n",
      "Prediction    0    1\n",
      "         0 2780  346\n",
      "         1  162  365\n",
      "                                         \n",
      "               Accuracy : 0.8609         \n",
      "                 95% CI : (0.8493, 0.872)\n",
      "    No Information Rate : 0.8054         \n",
      "    P-Value [Acc > NIR] : < 2.2e-16      \n",
      "                                         \n",
      "                  Kappa : 0.5082         \n",
      "                                         \n",
      " Mcnemar's Test P-Value : 4.688e-16      \n",
      "                                         \n",
      "            Sensitivity : 0.9449         \n",
      "            Specificity : 0.5134         \n",
      "         Pos Pred Value : 0.8893         \n",
      "         Neg Pred Value : 0.6926         \n",
      "             Prevalence : 0.8054         \n",
      "         Detection Rate : 0.7610         \n",
      "   Detection Prevalence : 0.8557         \n",
      "      Balanced Accuracy : 0.7291         \n",
      "                                         \n",
      "       'Positive' Class : 0              \n",
      "                                         \n"
     ]
    }
   ],
   "source": [
    "# Predict using the best K\n",
    "start_time_norm <- Sys.time()\n",
    "set.seed(123)\n",
    "pred_norm <- knn(train = data.train[, -1], \n",
    "                 test = data.test[, -1],  \n",
    "                 cl = data.train.norm$y,  \n",
    "                 k = best_k_norm)\n",
    "end_time_norm <- Sys.time()\n",
    "\n",
    "# Compute Confusion Matrix for final predictions\n",
    "conf_matrix_norm <- confusionMatrix(pred_norm, data.test.norm$y)\n",
    "\n",
    "print(\"Confusion Matrix - With Normalization:\")\n",
    "print(conf_matrix_norm)"
   ]
  },
  {
   "cell_type": "markdown",
   "metadata": {},
   "source": [
    "### Comparison"
   ]
  },
  {
   "cell_type": "code",
   "execution_count": 28,
   "metadata": {
    "vscode": {
     "languageId": "r"
    }
   },
   "outputs": [
    {
     "name": "stdout",
     "output_type": "stream",
     "text": [
      "Best K found with Cross-Validation (without normalization): 15 \n",
      "Best K found with Cross-Validation (with normalization): 9 \n"
     ]
    }
   ],
   "source": [
    "# Extract the best K from Cross-Validation\n",
    "cat(\"Best K found with Cross-Validation (without normalization):\", best_k_no_norm, \"\\n\")\n",
    "cat(\"Best K found with Cross-Validation (with normalization):\", best_k_norm, \"\\n\")"
   ]
  },
  {
   "cell_type": "code",
   "execution_count": 29,
   "metadata": {
    "vscode": {
     "languageId": "r"
    }
   },
   "outputs": [
    {
     "name": "stdout",
     "output_type": "stream",
     "text": [
      "Execution time (without normalization): 7.79091 \n",
      "Execution time (with normalization): 7.741782 \n"
     ]
    }
   ],
   "source": [
    "# Print execution times\n",
    "cat(\"Execution time (without normalization):\", end_time_no_norm - start_time_no_norm, \"\\n\")\n",
    "cat(\"Execution time (with normalization):\", end_time_norm - start_time_norm, \"\\n\")"
   ]
  },
  {
   "cell_type": "code",
   "execution_count": 30,
   "metadata": {
    "vscode": {
     "languageId": "r"
    }
   },
   "outputs": [
    {
     "name": "stdout",
     "output_type": "stream",
     "text": [
      "Error (without normalization): 14.07 % \n",
      "Error (with normalization): 13.91 % \n"
     ]
    }
   ],
   "source": [
    "# Errors evaluation\n",
    "cat(\"Error (without normalization):\", round(((1 - conf_matrix_no_norm$overall[\"Accuracy\"]) * 100), 2), \"% \\n\")\n",
    "cat(\"Error (with normalization):\", round(((1 - conf_matrix_norm$overall[\"Accuracy\"]) * 100), 2), \"% \\n\")"
   ]
  },
  {
   "cell_type": "markdown",
   "metadata": {},
   "source": [
    "- <font color='green'> Does the optimal K change with normalization? </font>\n",
    "\n",
    "    Yes, the optimal K differs between the two cases. The best K without normalization is 15, while with normalization it is 9. Since KNN is a distance-based algorithm, normalization affects the scale of variables, influencing the selection of the optimal K. Normalization ensures that all predictors contribute equally to distance calculations, preventing dominance from features with larger numerical ranges.\n",
    "\n",
    "- <font color='green'> Do normalized variables improve performance? </font>\n",
    "\n",
    "    Yes, normalization leads to a slight improvement in overall accuracy.\n",
    "\n",
    "- <font color='green'> Does dimensionality affect computational cost? </font>\n",
    "\n",
    "    The computational time for both cases is very similar. This suggests that in this case, dimensionality does not significantly affect computational cost. However, KNN is known to suffer from the curse of dimensionality, meaning that in a dataset with many more features, the computational burden would likely increase. \n",
    "\n",
    "- <font color='green'> What is the final misclassification error? </font>\n",
    "\n",
    "    Error (without normalization): 16.03 % \n",
    "\n",
    "    Error (with normalization): 15.59 %\n",
    "\n",
    "    This confirms that normalization slightly improves classification performance, particularly for the less frequent classes."
   ]
  },
  {
   "cell_type": "markdown",
   "metadata": {},
   "source": [
    "# <font color='pink'> ---------------------------------------------------------------------------"
   ]
  },
  {
   "cell_type": "markdown",
   "metadata": {},
   "source": [
    "### Punto 2 (3 puntos):\n",
    "\n",
    "Dados los posibles problemas asociados a la dimensionalidad del espacio de trabajo, en adelante consideraremos como predictores las Componentes Principales en lugar de las variables originales. Para ello, obtén las CPs a partir de los predictores originales del dataset `meteo.csv`. Recuerda la necesidad (o no) de estandarizar las variables para la obtención de las CPs (`Nota:` consultar la ayuda de la función scale -> `? scale`).\n",
    "\n",
    "A continuación, volveremos a considerar la serie de precipitación discretizada a partir del valor 1 mm y predecir la ocurrencia de precipitación en Lisboa a partir de los predictores antes definidos a partir de las CPs. Para ello consideraremos, por un lado, las componentes principales obtenidas estandarizando los datos originales y, por otro lado, el método `KNN`. Dividir la muestra en dos subconjuntos, el primero (20 primeros años) lo utilizaremos para calibrar el modelo y obtener su configuración óptima, mientras que el segundo (10 últimos años) lo utilizaremos como test independiente de cara a comparar diferentes métodos.\n",
    "\n",
    "* Considerad diferentes umbrales de varianza explicada y el número de PCs asociado (p.e. 40%, 60%, 80% y 90%) y obtened el valor óptimo de `K` en cada caso rastreando valores entre 1 y 15, ¿cómo cambia el valor óptimo? En base a los resultados obtenidos, ¿cuantas PCs considerarías para entrenar el modelo? (`Nota:` ver práctica de `KNN`)\n",
    "* Para la configuración óptima calibrada con el conjunto de entrenamiento realizad la predicción sobre el conjunto de test y estimad los errores cometidos sobre este conjunto."
   ]
  },
  {
   "cell_type": "code",
   "execution_count": 3,
   "metadata": {
    "vscode": {
     "languageId": "r"
    }
   },
   "outputs": [
    {
     "name": "stderr",
     "output_type": "stream",
     "text": [
      "\u001b[1m\u001b[22mNew names:\n",
      "\u001b[36m*\u001b[39m `` -> `...1`\n",
      "\u001b[1mRows: \u001b[22m\u001b[34m10958\u001b[39m \u001b[1mColumns: \u001b[22m\u001b[34m322\u001b[39m\n",
      "\u001b[36m--\u001b[39m \u001b[1mColumn specification\u001b[22m \u001b[36m--------------------------------------------------------\u001b[39m\n",
      "\u001b[1mDelimiter:\u001b[22m \",\"\n",
      "\u001b[32mdbl\u001b[39m (322): ...1, y, X1, X2, X3, X4, X5, X6, X7, X8, X9, X10, X11, X12, X13, ...\n",
      "\n",
      "\u001b[36mi\u001b[39m Use `spec()` to retrieve the full column specification for this data.\n",
      "\u001b[36mi\u001b[39m Specify the column types or set `show_col_types = FALSE` to quiet this message.\n"
     ]
    }
   ],
   "source": [
    "meteo_data <- read_csv(\"./meteo.csv\")"
   ]
  },
  {
   "cell_type": "code",
   "execution_count": 4,
   "metadata": {
    "vscode": {
     "languageId": "r"
    }
   },
   "outputs": [],
   "source": [
    "# Categorical variable\n",
    "meteo_data <- meteo_data[, -1]\n",
    "meteo_data$y <- ifelse(meteo_data$y >= 20, 1, 0)\n",
    "meteo_data$y <- as.factor(meteo_data$y)\n",
    "meteo_data <- meteo_data %>% select(y, everything()) # Move the target column to the first position"
   ]
  },
  {
   "cell_type": "code",
   "execution_count": 5,
   "metadata": {
    "vscode": {
     "languageId": "r"
    }
   },
   "outputs": [],
   "source": [
    "target <- meteo_data[[1]]\n",
    "predictors <- meteo_data[, -1]\n",
    "\n",
    "num_rows <- nrow(meteo_data)\n",
    "\n",
    "train_size <- round(num_rows * (20 / 30))\n",
    "test_size <- num_rows - train_size\n",
    "\n",
    "train_predictors <- predictors[1:train_size, ]\n",
    "test_predictors <- predictors[(train_size + 1):num_rows, ]\n",
    "\n",
    "train_target <- target[1:train_size]\n",
    "test_target <- target[(train_size + 1):num_rows]\n",
    "\n",
    "train_target <- factor(train_target, levels = c(0, 1))\n",
    "test_target <- factor(test_target, levels = c(0, 1))"
   ]
  },
  {
   "cell_type": "code",
   "execution_count": 6,
   "metadata": {
    "vscode": {
     "languageId": "r"
    }
   },
   "outputs": [],
   "source": [
    "# PCA train\n",
    "pca_model <- prcomp(train_predictors, center = TRUE, scale. = TRUE)\n",
    "\n",
    "# Transformation of training data, used to train the model\n",
    "train_pca <- pca_model$x\n",
    "\n",
    "# Projection of test data, used to test the future model\n",
    "test_pca <- predict(pca_model, newdata = test_predictors)"
   ]
  },
  {
   "cell_type": "code",
   "execution_count": 7,
   "metadata": {
    "vscode": {
     "languageId": "r"
    }
   },
   "outputs": [
    {
     "name": "stdout",
     "output_type": "stream",
     "text": [
      "Number of PCs for each variance threshold:\n",
      "Threshold 40%: 1 PCs\n",
      "Threshold 60%: 2 PCs\n",
      "Threshold 80%: 4 PCs\n",
      "Threshold 90%: 10 PCs\n"
     ]
    }
   ],
   "source": [
    "cumulate_variance <- cumsum(pca_model$sdev^2) / sum(pca_model$sdev^2)\n",
    "thresholds <- c(0.40, 0.60, 0.80, 0.90)\n",
    "num_pcs <- sapply(thresholds, function(u) (which(cumulate_variance >= u)[1]))\n",
    "\n",
    "cat(\"Number of PCs for each variance threshold:\\n\")\n",
    "for (i in seq_along(num_pcs)) {\n",
    "  cat(paste0(\"Threshold \", thresholds[i] * 100, \"%: \", num_pcs[i], \" PCs\\n\"))\n",
    "}"
   ]
  },
  {
   "cell_type": "code",
   "execution_count": 8,
   "metadata": {
    "vscode": {
     "languageId": "r"
    }
   },
   "outputs": [
    {
     "name": "stdout",
     "output_type": "stream",
     "text": [
      "\n",
      "Using 1 PCs for 40 % of variance\n",
      "Optimal k = 6\n",
      "Accuracy: 97.48 %\n",
      "\n",
      "Using 2 PCs for 60 % of variance\n",
      "Optimal k = 9\n",
      "Accuracy: 97.51 %\n",
      "\n",
      "Using 4 PCs for 80 % of variance\n",
      "Optimal k = 12\n",
      "Accuracy: 97.54 %\n",
      "\n",
      "Using 10 PCs for 90 % of variance\n",
      "Optimal k = 12\n",
      "Accuracy: 97.45 %\n"
     ]
    }
   ],
   "source": [
    "res <- list()\n",
    "\n",
    "for (i in (seq_along(num_pcs))){\n",
    "    \n",
    "    n_pc <- num_pcs[i]\n",
    "    cat(\"\\nUsing\", n_pc, \"PCs for\", thresholds[i] * 100, \"% of variance\")\n",
    "    \n",
    "    train_pca_for <- train_pca[, 1:n_pc, drop = FALSE]\n",
    "    test_pca_for <- test_pca[, 1:n_pc, drop = FALSE]\n",
    "    # cat(\"\\nFirst few rows of train_pca_for:\\n\")\n",
    "    # print(head(train_pca_for))\n",
    "\n",
    "    cv_control <- trainControl(method = \"cv\", number = 10, selectionFunction = \"best\")  # 10-fold Cross Validation\n",
    "    knn_model <- train(\n",
    "        x = train_pca_for,\n",
    "        y = train_target,\n",
    "        method = \"knn\",\n",
    "        tuneGrid = expand.grid(k = 1:15),\n",
    "        trControl = cv_control,\n",
    "    )\n",
    "\n",
    "    best_k <- knn_model$results$k[which.max(knn_model$results$Accuracy)]\n",
    "\n",
    "    cat(\"\\nOptimal k =\", best_k)\n",
    "\n",
    "    set.seed(123)\n",
    "    knn_pred <- knn(\n",
    "        train = train_pca_for,\n",
    "        test = test_pca_for,\n",
    "        cl = train_target,\n",
    "        k = best_k\n",
    "    )\n",
    "\n",
    "    conf_matrix <- confusionMatrix(\n",
    "        factor(knn_pred, levels = levels(test_target)),\n",
    "        test_target\n",
    "    )\n",
    "\n",
    "    best_accuracy <- conf_matrix$overall['Accuracy']\n",
    "\n",
    "    # cat(\"\\nConfusion Matrix for\", thresholds[i] * 100, \"% of variance:\\n\")\n",
    "    # print(conf_matrix)\n",
    "\n",
    "    cat(\"\\nAccuracy:\", round(best_accuracy * 100, 2), \"%\\n\")\n",
    "\n",
    "    res[[paste0(\"Variance_\", thresholds[i] * 100, \"%\")]] <- list(\n",
    "        num_pcs = n_pc,\n",
    "        best_k = best_k,\n",
    "        accuracy = best_accuracy,\n",
    "        confusion_matrix = conf_matrix\n",
    "    )\n",
    "\n",
    "    rm(train_pca_for, test_pca_for, knn_model, knn_pred, conf_matrix)\n",
    "    gc()\n",
    "\n",
    "}"
   ]
  },
  {
   "cell_type": "code",
   "execution_count": 11,
   "metadata": {
    "vscode": {
     "languageId": "r"
    }
   },
   "outputs": [],
   "source": [
    "n_pc <- 4\n",
    "k <- 12\n",
    "train_pca <- pca_model$x[, 1:n_pc, drop = FALSE]\n",
    "test_pca <- predict(pca_model, newdata = test_predictors)[, 1:n_pc, drop = FALSE]"
   ]
  },
  {
   "cell_type": "code",
   "execution_count": 12,
   "metadata": {
    "vscode": {
     "languageId": "r"
    }
   },
   "outputs": [],
   "source": [
    "set.seed(123)\n",
    "knn_model <- knn(\n",
    "    train = train_pca,\n",
    "    test = test_pca,\n",
    "    cl = train_target,\n",
    "    k=k\n",
    ")\n",
    "\n",
    "conf_matrix <- confusionMatrix(knn_model, test_target)"
   ]
  },
  {
   "cell_type": "code",
   "execution_count": 13,
   "metadata": {
    "vscode": {
     "languageId": "r"
    }
   },
   "outputs": [
    {
     "name": "stdout",
     "output_type": "stream",
     "text": [
      "Confusion Matrix and Statistics\n",
      "\n",
      "          Reference\n",
      "Prediction    0    1\n",
      "         0 3562   90\n",
      "         1    0    1\n",
      "                                          \n",
      "               Accuracy : 0.9754          \n",
      "                 95% CI : (0.9698, 0.9801)\n",
      "    No Information Rate : 0.9751          \n",
      "    P-Value [Acc > NIR] : 0.4855          \n",
      "                                          \n",
      "                  Kappa : 0.0212          \n",
      "                                          \n",
      " Mcnemar's Test P-Value : <2e-16          \n",
      "                                          \n",
      "            Sensitivity : 1.00000         \n",
      "            Specificity : 0.01099         \n",
      "         Pos Pred Value : 0.97536         \n",
      "         Neg Pred Value : 1.00000         \n",
      "             Prevalence : 0.97509         \n",
      "         Detection Rate : 0.97509         \n",
      "   Detection Prevalence : 0.99973         \n",
      "      Balanced Accuracy : 0.50549         \n",
      "                                          \n",
      "       'Positive' Class : 0               \n",
      "                                          \n"
     ]
    }
   ],
   "source": [
    "print(conf_matrix)"
   ]
  },
  {
   "cell_type": "markdown",
   "metadata": {},
   "source": [
    "The results show that the optimal value of  k  increases with the number of PCs used in the model, eventually stabilizing at  k = 12  starting from 4 PCs (80% explained variance). The model accuracy improves slightly up to 4 PCs (80%) and then decreases marginally when using 10 PCs (90%). This suggests that adding more PCs does not necessarily enhance model performance, and beyond 4 PCs, no significant improvement is observed. Therefore, the optimal configuration for the model is using 4 PCs (80% explained variance) with  k = 12.\n",
    "However, while the overall accuracy is high (97.54%), it could be misleading due to the highly imbalanced dataset. The model could be simply predicting “no precipitation” in most cases and still achieving a high accuracy.\n",
    "\n",
    "The Kappa Statistic, which in this case is 0.0212 uggests that the model is not effective at distinguishing precipitation events from non-precipitation events."
   ]
  },
  {
   "cell_type": "markdown",
   "metadata": {},
   "source": [
    "# <font color='pink'> ---------------------------------------------------------------------------"
   ]
  },
  {
   "cell_type": "markdown",
   "metadata": {
    "button": false,
    "new_sheet": false,
    "run_control": {
     "read_only": false
    }
   },
   "source": [
    "### Punto 3 (2 puntos):\n",
    "\n",
    "Repetid el experimento anterior considerando la precipitación discretizada a partir del valor 20 mm, que es el estándar definido para establecer los días en que ha llovido de forma intensa.\n",
    "\n",
    "* ¿Cómo cambian los valores óptimos de `K` y de número de PCs? \n",
    "* ¿Cómo cambian los errores sobre el conjunto de test en este caso?\n",
    "* En caso de existir diferentes significativas en ambos casos, ¿a qué crees que puede ser debido? ¿La frecuencia en la muestra del evento a predecir puede influir en la calidad de la predicción?"
   ]
  },
  {
   "cell_type": "code",
   "execution_count": 4,
   "metadata": {
    "vscode": {
     "languageId": "r"
    }
   },
   "outputs": [
    {
     "name": "stderr",
     "output_type": "stream",
     "text": [
      "\u001b[1m\u001b[22mNew names:\n",
      "\u001b[36m*\u001b[39m `` -> `...1`\n",
      "\u001b[1mRows: \u001b[22m\u001b[34m10958\u001b[39m \u001b[1mColumns: \u001b[22m\u001b[34m322\u001b[39m\n",
      "\u001b[36m--\u001b[39m \u001b[1mColumn specification\u001b[22m \u001b[36m--------------------------------------------------------\u001b[39m\n",
      "\u001b[1mDelimiter:\u001b[22m \",\"\n",
      "\u001b[32mdbl\u001b[39m (322): ...1, y, X1, X2, X3, X4, X5, X6, X7, X8, X9, X10, X11, X12, X13, ...\n",
      "\n",
      "\u001b[36mi\u001b[39m Use `spec()` to retrieve the full column specification for this data.\n",
      "\u001b[36mi\u001b[39m Specify the column types or set `show_col_types = FALSE` to quiet this message.\n"
     ]
    }
   ],
   "source": [
    "meteo_data <- read_csv(\"./meteo.csv\")\n",
    "meteo_data <- meteo_data[, -1]\n",
    "meteo_data$y <- ifelse(meteo_data$y >= 20, 1, 0)"
   ]
  },
  {
   "cell_type": "code",
   "execution_count": 5,
   "metadata": {
    "vscode": {
     "languageId": "r"
    }
   },
   "outputs": [],
   "source": [
    "target <- meteo_data[[1]]\n",
    "predictors <- meteo_data[, -1]\n",
    "\n",
    "num_rows <- nrow(meteo_data)\n",
    "\n",
    "train_size <- round(num_rows * (20 / 30))\n",
    "test_size <- num_rows - train_size\n",
    "\n",
    "train_predictors <- predictors[1:train_size, ]\n",
    "test_predictors <- predictors[(train_size + 1):num_rows, ]\n",
    "\n",
    "train_target <- target[1:train_size]\n",
    "test_target <- target[(train_size + 1):num_rows]\n",
    "\n",
    "train_target <- factor(train_target, levels = c(0, 1))\n",
    "test_target <- factor(test_target, levels = c(0, 1))"
   ]
  },
  {
   "cell_type": "code",
   "execution_count": 6,
   "metadata": {
    "vscode": {
     "languageId": "r"
    }
   },
   "outputs": [],
   "source": [
    "# PCA train\n",
    "pca_model <- prcomp(train_predictors, center = TRUE, scale. = TRUE)\n",
    "\n",
    "# Transformation of training data, used to train the model\n",
    "train_pca <- pca_model$x\n",
    "\n",
    "# Projection of test data, used to test the future model\n",
    "test_pca <- predict(pca_model, newdata = test_predictors)"
   ]
  },
  {
   "cell_type": "code",
   "execution_count": 7,
   "metadata": {
    "vscode": {
     "languageId": "r"
    }
   },
   "outputs": [
    {
     "name": "stdout",
     "output_type": "stream",
     "text": [
      "Number of PCs for each variance threshold:\n",
      "Threshold 40%: 1 PCs\n",
      "Threshold 60%: 2 PCs\n",
      "Threshold 80%: 4 PCs\n",
      "Threshold 90%: 10 PCs\n"
     ]
    }
   ],
   "source": [
    "cumulate_variance <- cumsum(pca_model$sdev^2) / sum(pca_model$sdev^2)\n",
    "thresholds <- c(0.40, 0.60, 0.80, 0.90)\n",
    "num_pcs <- sapply(thresholds, function(u) which(cumulate_variance >= u)[1])\n",
    "\n",
    "cat(\"Number of PCs for each variance threshold:\\n\")\n",
    "for (i in seq_along(num_pcs)) {\n",
    "  cat(paste0(\"Threshold \", thresholds[i] * 100, \"%: \", num_pcs[i], \" PCs\\n\"))\n",
    "}"
   ]
  },
  {
   "cell_type": "code",
   "execution_count": 47,
   "metadata": {
    "vscode": {
     "languageId": "r"
    }
   },
   "outputs": [
    {
     "data": {
      "image/png": "[encoded data removed]",
      "text/plain": [
       "Plot with title \"Cumulative Variance Explained by Principal Components\""
      ]
     },
     "metadata": {
      "image/png": {
       "height": 420,
       "width": 420
      }
     },
     "output_type": "display_data"
    }
   ],
   "source": [
    "par(bg = \"white\")\n",
    "plot(cumulate_variance * 100, type = \"b\", pch = 19, col = \"blue\",\n",
    "     xlab = \"Number of Principal Components\", ylab = \"Cumulative Variance Explained\",\n",
    "     main = \"Cumulative Variance Explained by Principal Components\")"
   ]
  },
  {
   "cell_type": "code",
   "execution_count": 8,
   "metadata": {
    "vscode": {
     "languageId": "r"
    }
   },
   "outputs": [
    {
     "name": "stdout",
     "output_type": "stream",
     "text": [
      "\n",
      "Using 1 PCs for 40 % of variance"
     ]
    },
    {
     "name": "stdout",
     "output_type": "stream",
     "text": [
      "\n",
      "Optimal k = 8\n",
      "Accuracy: 97.51 %\n",
      "\n",
      "Using 2 PCs for 60 % of variance\n",
      "Optimal k = 8\n",
      "Accuracy: 97.48 %\n",
      "\n",
      "Using 4 PCs for 80 % of variance\n",
      "Optimal k = 13\n",
      "Accuracy: 97.51 %\n",
      "\n",
      "Using 10 PCs for 90 % of variance\n",
      "Optimal k = 11\n",
      "Accuracy: 97.48 %\n"
     ]
    }
   ],
   "source": [
    "res <- list()\n",
    "\n",
    "for (i in (seq_along(num_pcs))){\n",
    "    \n",
    "    n_pc <- num_pcs[i]\n",
    "    cat(\"\\nUsing\", n_pc, \"PCs for\", thresholds[i] * 100, \"% of variance\")\n",
    "    \n",
    "    train_pca_for <- train_pca[, 1:n_pc, drop = FALSE]\n",
    "    test_pca_for <- test_pca[, 1:n_pc, drop = FALSE]\n",
    "    # cat(\"\\nFirst few rows of train_pca_for:\\n\")\n",
    "    # print(head(train_pca_for))\n",
    "\n",
    "    cv_control <- trainControl(method = \"cv\", number = 10, selectionFunction = \"best\")  # 10-fold Cross Validation\n",
    "    knn_model <- train(\n",
    "        x = train_pca_for,\n",
    "        y = train_target,\n",
    "        method = \"knn\",\n",
    "        tuneGrid = expand.grid(k = 1:15),\n",
    "        trControl = cv_control,\n",
    "    )\n",
    "\n",
    "    best_k <- knn_model$results$k[which.max(knn_model$results$Accuracy)]\n",
    "\n",
    "    cat(\"\\nOptimal k =\", best_k)\n",
    "\n",
    "    set.seed(123)\n",
    "    knn_pred <- knn(\n",
    "        train = train_pca_for,\n",
    "        test = test_pca_for,\n",
    "        cl = train_target,\n",
    "        k = best_k\n",
    "    )\n",
    "\n",
    "    conf_matrix <- confusionMatrix(\n",
    "        factor(knn_pred, levels = levels(test_target)),\n",
    "        test_target\n",
    "    )\n",
    "\n",
    "    best_accuracy <- conf_matrix$overall['Accuracy']\n",
    "\n",
    "    # cat(\"\\nConfusion Matrix for\", thresholds[i] * 100, \"% of variance:\\n\")\n",
    "    # print(conf_matrix)\n",
    "\n",
    "    cat(\"\\nAccuracy:\", round(best_accuracy * 100, 2), \"%\\n\")\n",
    "\n",
    "    res[[paste0(\"Variance_\", thresholds[i] * 100, \"%\")]] <- list(\n",
    "        num_pcs = n_pc,\n",
    "        best_k = best_k,\n",
    "        accuracy = best_accuracy,\n",
    "        confusion_matrix = conf_matrix\n",
    "    )\n",
    "\n",
    "    rm(train_pca_for, test_pca_for, knn_model, knn_pred, conf_matrix)\n",
    "    gc()\n",
    "\n",
    "}"
   ]
  },
  {
   "cell_type": "code",
   "execution_count": 9,
   "metadata": {
    "vscode": {
     "languageId": "r"
    }
   },
   "outputs": [],
   "source": [
    "n_pc <- 4\n",
    "k <- 13\n",
    "train_pca_model <- pca_model$x[, 1:n_pc, drop = FALSE]\n",
    "test_pca_model <- predict(pca_model, newdata = test_predictors)[, 1:n_pc, drop = FALSE]"
   ]
  },
  {
   "cell_type": "code",
   "execution_count": 10,
   "metadata": {
    "vscode": {
     "languageId": "r"
    }
   },
   "outputs": [],
   "source": [
    "set.seed(123)\n",
    "knn_model_20 <- knn(\n",
    "    train = train_pca_model,\n",
    "    test = test_pca_model,\n",
    "    cl = train_target,\n",
    "    k = k\n",
    ")\n",
    "\n",
    "conf_matrix <- confusionMatrix(knn_model_20, test_target)"
   ]
  },
  {
   "cell_type": "code",
   "execution_count": 11,
   "metadata": {
    "vscode": {
     "languageId": "r"
    }
   },
   "outputs": [
    {
     "name": "stdout",
     "output_type": "stream",
     "text": [
      "Confusion Matrix and Statistics\n",
      "\n",
      "          Reference\n",
      "Prediction    0    1\n",
      "         0 3562   91\n",
      "         1    0    0\n",
      "                                          \n",
      "               Accuracy : 0.9751          \n",
      "                 95% CI : (0.9695, 0.9799)\n",
      "    No Information Rate : 0.9751          \n",
      "    P-Value [Acc > NIR] : 0.5278          \n",
      "                                          \n",
      "                  Kappa : 0               \n",
      "                                          \n",
      " Mcnemar's Test P-Value : <2e-16          \n",
      "                                          \n",
      "            Sensitivity : 1.0000          \n",
      "            Specificity : 0.0000          \n",
      "         Pos Pred Value : 0.9751          \n",
      "         Neg Pred Value :    NaN          \n",
      "             Prevalence : 0.9751          \n",
      "         Detection Rate : 0.9751          \n",
      "   Detection Prevalence : 1.0000          \n",
      "      Balanced Accuracy : 0.5000          \n",
      "                                          \n",
      "       'Positive' Class : 0               \n",
      "                                          \n"
     ]
    }
   ],
   "source": [
    "print(conf_matrix)"
   ]
  },
  {
   "cell_type": "markdown",
   "metadata": {},
   "source": [
    "The model’s accuracy remains nearly the same regardless of the number of principal components (PCs) used. If we select 1 PC (40% explained variance), the model remains very simple, but it may lose important information that could help in classification. On the other hand, using 4 PCs (80% explained variance) provides the same accuracy (97.51%) while retaining more relevant information from the data. Thus, the optimal choice is to use 4 PCs (80% explained variance) with  k = 13 . This selection achieves the same accuracy as the 1-PC model and maintains sufficient explained variance to prevent excessive information loss, leading to a more reliable model.\n",
    "\n",
    "Given the dataset’s imbalance, a potential improvement could involve undersampling the majority class (non-rainy days). This would help create a more balanced dataset, allowing the model to better capture the characteristics of the minority class (intense rainfall days) and improve classification performance."
   ]
  },
  {
   "cell_type": "markdown",
   "metadata": {},
   "source": [
    "# <font color='pink'> ---------------------------------------------------------------------------"
   ]
  },
  {
   "cell_type": "markdown",
   "metadata": {},
   "source": [
    "### Punto 4 (2 puntos):\n",
    "\n",
    "Considerando el número de PCs óptimo obtenido en el apartado anterior, predecid el conjunto de test utilizando en este caso la regresión logística como método de clasificación (`Nota:` ver `Práctica Clasificacion Lineal` en el Moodle de la asignatura de Estadística o en la de Minería de Datos). \n",
    "\n",
    "* Comparad los resultados obtenidos utilizando ambos métodos para la predicción de la ocurrencia de precipitación y de precipitación intensa (`Nota:` considerar, por ejemplo, la curva ROC para la comparación), ¿alguno de los métodos se comporta mejor que el otro de forma sistemática?"
   ]
  },
  {
   "cell_type": "code",
   "execution_count": 31,
   "metadata": {
    "vscode": {
     "languageId": "r"
    }
   },
   "outputs": [],
   "source": [
    "library(pROC)"
   ]
  },
  {
   "cell_type": "code",
   "execution_count": 34,
   "metadata": {
    "vscode": {
     "languageId": "r"
    }
   },
   "outputs": [],
   "source": [
    "best_n_pc = 4\n",
    "\n",
    "train_pca_best <- train_pca[, 1:best_n_pc, drop = FALSE]\n",
    "test_pca_best <- test_pca[, 1:best_n_pc, drop = FALSE]"
   ]
  },
  {
   "cell_type": "code",
   "execution_count": 35,
   "metadata": {
    "vscode": {
     "languageId": "r"
    }
   },
   "outputs": [],
   "source": [
    "set.seed(123)\n",
    "\n",
    "logistic_model <- train(\n",
    "    x = train_pca_best,\n",
    "    y = train_target,\n",
    "    method = \"glm\",\n",
    "    family = binomial(link = \"logit\")\n",
    ")"
   ]
  },
  {
   "cell_type": "code",
   "execution_count": 36,
   "metadata": {
    "vscode": {
     "languageId": "r"
    }
   },
   "outputs": [
    {
     "name": "stdout",
     "output_type": "stream",
     "text": [
      "\n",
      "Accuracy Regression: 97.45 %\n",
      "Confusion Matrix and Statistics\n",
      "\n",
      "          Reference\n",
      "Prediction    0    1\n",
      "         0 3560   91\n",
      "         1    2    0\n",
      "                                          \n",
      "               Accuracy : 0.9745          \n",
      "                 95% CI : (0.9689, 0.9794)\n",
      "    No Information Rate : 0.9751          \n",
      "    P-Value [Acc > NIR] : 0.6106          \n",
      "                                          \n",
      "                  Kappa : -0.0011         \n",
      "                                          \n",
      " Mcnemar's Test P-Value : <2e-16          \n",
      "                                          \n",
      "            Sensitivity : 0.9994          \n",
      "            Specificity : 0.0000          \n",
      "         Pos Pred Value : 0.9751          \n",
      "         Neg Pred Value : 0.0000          \n",
      "             Prevalence : 0.9751          \n",
      "         Detection Rate : 0.9745          \n",
      "   Detection Prevalence : 0.9995          \n",
      "      Balanced Accuracy : 0.4997          \n",
      "                                          \n",
      "       'Positive' Class : 0               \n",
      "                                          \n"
     ]
    }
   ],
   "source": [
    "logistic_predictions <- predict(logistic_model, test_pca_best)\n",
    "logistic_conf_matrix <- confusionMatrix(logistic_predictions, test_target)\n",
    "\n",
    "cat(\"\\nAccuracy Regression:\", round(logistic_conf_matrix$overall[\"Accuracy\"] * 100, 2), \"%\\n\")\n",
    "print(logistic_conf_matrix)"
   ]
  },
  {
   "cell_type": "code",
   "execution_count": 40,
   "metadata": {
    "vscode": {
     "languageId": "r"
    }
   },
   "outputs": [
    {
     "name": "stderr",
     "output_type": "stream",
     "text": [
      "Setting levels: control = 0, case = 1\n",
      "\n",
      "Setting direction: controls < cases\n",
      "\n",
      "Setting levels: control = 0, case = 1\n",
      "\n",
      "Setting direction: controls < cases\n",
      "\n",
      "Setting levels: control = 0, case = 1\n",
      "\n",
      "Setting direction: controls < cases\n",
      "\n"
     ]
    }
   ],
   "source": [
    "logistic_prob <- predict(logistic_model, test_pca_best, type = \"prob\")[,2]\n",
    "\n",
    "roc_logistic <- roc(test_target, logistic_prob)\n",
    "auc_logistic <- auc(roc_logistic)\n",
    "\n",
    "knn_prob_10 <- as.numeric(pred_norm)\n",
    "knn_prob_20 <- as.numeric(knn_model_20) \n",
    "\n",
    "roc_knn_20 <- roc(test_target, knn_prob_20)\n",
    "auc_knn_20 <- auc(roc_knn_20)\n",
    "\n",
    "roc_knn_10 <- roc(test_target, pred_norm)\n",
    "auc_knn_10 <- auc(roc_knn_10)"
   ]
  },
  {
   "cell_type": "code",
   "execution_count": 42,
   "metadata": {
    "vscode": {
     "languageId": "r"
    }
   },
   "outputs": [
    {
     "data": {
      "image/png": "[encoded data removed]",
      "text/plain": [
       "Plot with title \"ROC curve: KNN vs Logistic Regression\""
      ]
     },
     "metadata": {
      "image/png": {
       "height": 420,
       "width": 420
      }
     },
     "output_type": "display_data"
    }
   ],
   "source": [
    "par(bg = \"white\")\n",
    "plot(roc_logistic, col = \"blue\", main = \"ROC curve: KNN vs Logistic Regression\")\n",
    "plot(roc_knn_10, col = \"red\", add = TRUE)\n",
    "plot(roc_knn_20, col = \"green\", add = TRUE)\n",
    "legend(\"bottomright\", legend = c(\"Logistic\", \"KNN_10\", \"KNN_20\"), col = c(\"blue\", \"red\", \"green\"), lty = 1)"
   ]
  },
  {
   "cell_type": "code",
   "execution_count": 44,
   "metadata": {
    "vscode": {
     "languageId": "r"
    }
   },
   "outputs": [
    {
     "name": "stdout",
     "output_type": "stream",
     "text": [
      "\n",
      "AUC Logistic Regression: 0.859\n",
      "AUC KNN: 0.792\n",
      "AUC KNN: 0.5"
     ]
    }
   ],
   "source": [
    "cat(\"\\nAUC Logistic Regression:\", round(auc_logistic, 3))\n",
    "cat(\"\\nAUC KNN:\", round(auc_knn_10, 3))\n",
    "cat(\"\\nAUC KNN:\", round(auc_knn_20, 3))"
   ]
  },
  {
   "cell_type": "markdown",
   "metadata": {},
   "source": [
    "Both models achieve similar accuracy (~97.5%), but this metric is misleading due to the highly imbalanced dataset. The balanced accuracy is ~50% for both, indicating that neither model effectively predicts intense rainfall. The ROC curve and AUC values suggest that logistic regression (AUC = 0.859) systematically outperforms KNN (AUC = 0.792 for  k = 10 , 0.5 for  k = 20), showing better class separation. However, both models fail to correctly classify intense rainfall events, as evidenced by their low specificity."
   ]
  }
 ],
 "metadata": {
  "kernelspec": {
   "display_name": "R",
   "language": "R",
   "name": "ir"
  },
  "language_info": {
   "codemirror_mode": "r",
   "file_extension": ".r",
   "mimetype": "text/x-r-source",
   "name": "R",
   "pygments_lexer": "r",
   "version": "4.4.1"
  },
  "toc": {
   "base_numbering": 1,
   "nav_menu": {},
   "number_sections": true,
   "sideBar": true,
   "skip_h1_title": true,
   "title_cell": "Table of Contents",
   "title_sidebar": "Contents",
   "toc_cell": true,
   "toc_position": {},
   "toc_section_display": true,
   "toc_window_display": false
  }
 },
 "nbformat": 4,
 "nbformat_minor": 2
}
