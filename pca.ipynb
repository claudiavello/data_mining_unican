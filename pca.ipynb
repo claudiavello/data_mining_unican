{
 "cells": [
  {
   "cell_type": "markdown",
   "metadata": {},
   "source": [
    "Existen numerosas funciones en R que realizan, de forma explícita o implícita, un PCA de los datos. En este apartado, nos centraremos en una de las más utilizadas, la función prcomp, y analizaremos las diferentes componentes, opciones y estructura de salida de dicha función.\n",
    "\n",
    "Aplicaremos el PCA a las tres variables continuas que forman el conjunto de datos acciones. Nótese que este dataset ya se encuentra transformado logarítmicamente. Como norma general, es altamente recomendable estandarizar los datos antes de realizar el PCA. Esto puede realizarse como paso previo a la llamada de la función prcomp, utilizando la función scale, o bien a través de los argumentos center y scale. En nuestro caso, mantendremos los datos originales utilizados en el apartado anterior, por comparabilidad de resultados."
   ]
  },
  {
   "cell_type": "markdown",
   "metadata": {},
   "source": [
    "El método predict aplicado sobre un objeto PCA de la \"prcomp\" para predecir los valores que tendrán las CPs para nuevos valores observados. Para ilustrarlo, supongamos que los tres últimos datos del conjunto de datos acciones son nuevos datos de cotización que acabamos de obtener:"
   ]
  },
  {
   "cell_type": "code",
   "execution_count": null,
   "metadata": {
    "vscode": {
     "languageId": "r"
    }
   },
   "outputs": [],
   "source": [
    "predict(pca, newdata = tail(acciones,3))"
   ]
  },
  {
   "cell_type": "markdown",
   "metadata": {},
   "source": [
    "Los resultados del PCA suelen representarse a través de los llamados biplots, generados mediante la función con el mismo nombre. Las variables se representan mediante flechas, y los números representan las filas de cada observación en la tabla de datos original. Las direcciones de las flechas muestran los pesos relativos de cada variable en la primera y segunda componente principal (por defecto se represntan la CP1 frente a la CP2, aunque esto puede modificarse a través del argumento choices (ver help(\"biplot.princomp\"))"
   ]
  },
  {
   "cell_type": "code",
   "execution_count": null,
   "metadata": {
    "vscode": {
     "languageId": "r"
    }
   },
   "outputs": [],
   "source": [
    "biplot(pca, cex = .5)"
   ]
  }
 ],
 "metadata": {
  "kernelspec": {
   "display_name": "R",
   "language": "R",
   "name": "ir"
  },
  "language_info": {
   "name": "R"
  }
 },
 "nbformat": 4,
 "nbformat_minor": 2
}
